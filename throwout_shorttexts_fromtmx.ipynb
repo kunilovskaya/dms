{
 "cells": [
  {
   "cell_type": "code",
   "execution_count": 1,
   "metadata": {
    "collapsed": true
   },
   "outputs": [],
   "source": [
    "# delete segments from 12 rediculously short files from my_uniq.tmx \n",
    "# the filenames to be deleted should match filesource metadata, not <prop> \n",
    "\n",
    "# Sept 24, 2017 this is a working version\n",
    "# this is a copy of the jupyter notebook uniq_customize.ipynb\n",
    "\n",
    "import sys, codecs\n",
    "from xml.dom import minidom\n",
    "\n",
    "arg1 = '/home/masha/birmingham/data/EM_my_uniq.tmx' # sys.argv[1]\n",
    "arg2 = '/home/masha/birmingham/data/thrown_out_from_my_uniq.lst' #sys.argv[2] of type EN_1_88.head.txt\n",
    "\n",
    "# produce a list of tus\n",
    "doc = minidom.parse(arg1)\n",
    "body = doc.childNodes[1].childNodes[3] # equals body = doc.getElementsByTagName(\"body\")[0]"
   ]
  },
  {
   "cell_type": "code",
   "execution_count": 2,
   "metadata": {},
   "outputs": [],
   "source": [
    "# make a list of fnpairs of type EN_6_3.head.txt-RU_6_3_1.head.txt\n",
    "source_fn = [fn.strip() for fn in codecs.open(arg2,'r','utf-8').readlines()]"
   ]
  },
  {
   "cell_type": "code",
   "execution_count": 3,
   "metadata": {},
   "outputs": [
    {
     "name": "stdout",
     "output_type": "stream",
     "text": [
      "9810\n",
      "48\n",
      "EN_1_110.head.txt\n",
      "EN_1_155.head.txt\n",
      "EN_1_77.head.txt\n",
      "EN_1_213.head.txt\n",
      "EN_1_198.head.txt\n",
      "EN_1_33.head.txt\n",
      "EN_1_32.head.txt\n",
      "EN_1_30.head.txt\n",
      "EN_1_72.head.txt\n",
      "EN_1_113.head.txt\n",
      "EN_1_70.head.txt\n",
      "EN_6_5.head.txt\n"
     ]
    }
   ],
   "source": [
    "# remove whole tus if the filename in tuv with Source attribute is on the list of unwanted files\n",
    "deleted_tus = 0\n",
    "deleted_fns =[]\n",
    "tus = body.getElementsByTagName(\"tu\")\n",
    "print len(tus)\n",
    "for tu in tus:\n",
    "    tuvs = tu.getElementsByTagName(\"tuv\")\n",
    "    for tuv in tuvs:\n",
    "        tuv_type = tuv.getAttribute('type') # hopefully there are no empty attuibutes (type=\"\"); they will get thru this\n",
    "        if tuv_type == 'Source':\n",
    "            fls = tuv.getAttribute('filesource')\n",
    "        # this does the matching with the lists and prints only one translation for sources on the list\n",
    "            if fls.strip() not in source_fn: \n",
    "                continue\n",
    "            else:\n",
    "                #print 'Gotya:', fls\n",
    "                deleted_tus +=1\n",
    "                deleted_fns.append(fls)\n",
    "                tu.parentNode.removeChild(tu)\n",
    "        break\n",
    "    \n",
    "print deleted_tus\n",
    "for fn in list(set(deleted_fns)):\n",
    "    print fn"
   ]
  },
  {
   "cell_type": "code",
   "execution_count": 4,
   "metadata": {
    "collapsed": true
   },
   "outputs": [],
   "source": [
    "# print the resulting body to a new file\n",
    "ofile = codecs.open('/home/masha/birmingham/data/EM_my_uniq200.tmx','wb','utf8')#the resulting cleaned (customized) tmx is in the argv folder\n",
    "ofile.write(doc.toxml())\n",
    "ofile.close()"
   ]
  }
 ],
 "metadata": {
  "kernelspec": {
   "display_name": "Python 2",
   "language": "python",
   "name": "python2"
  },
  "language_info": {
   "codemirror_mode": {
    "name": "ipython",
    "version": 2
   },
   "file_extension": ".py",
   "mimetype": "text/x-python",
   "name": "python",
   "nbconvert_exporter": "python",
   "pygments_lexer": "ipython2",
   "version": "2.7.13"
  }
 },
 "nbformat": 4,
 "nbformat_minor": 2
}
