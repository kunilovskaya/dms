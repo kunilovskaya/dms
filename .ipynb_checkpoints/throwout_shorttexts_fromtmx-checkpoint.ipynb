{
 "cells": [
  {
   "cell_type": "code",
   "execution_count": null,
   "metadata": {
    "collapsed": true
   },
   "outputs": [],
   "source": [
    "# delete segments from 12 rediculously short files from my_uniq.tmx \n",
    "# the filenames to be deleted should match filesource metadata, not <prop> \n",
    "\n",
    "# Sept 24, 2017 this is a working version\n",
    "# this is a copy of the jupyter notebook uniq_customize.ipynb\n",
    "\n",
    "import sys, codecs\n",
    "from xml.dom import minidom\n",
    "\n",
    "arg1 = '/home/masha/birmingham/data/test_my_uniq.tmx' # sys.argv[1]\n",
    "arg2 = '/home/masha/birmingham/data/thrown_out_from_my_uniq.lst' #sys.argv[2] of type EN_1_88.head.txt\n",
    "\n",
    "# produce a list of tus\n",
    "doc = minidom.parse(arg1)\n",
    "body = doc.childNodes[1].childNodes[3] # equals body = doc.getElementsByTagName(\"body\")[0]"
   ]
  },
  {
   "cell_type": "code",
   "execution_count": null,
   "metadata": {
    "collapsed": true
   },
   "outputs": [],
   "source": [
    "# make a list of fnpairs of type EN_6_3.head.txt-RU_6_3_1.head.txt\n",
    "list = [w.strip() for w in codecs.open(arg2,'r','utf-8').readlines()]\n",
    "\n",
    "# produce separate lists of fns for sources and targets to test tuvs' filesources\n",
    "source_fn = []\n",
    "target_fn = []\n",
    "for i in list:\n",
    "    fns = i.split('-')\n",
    "    source_fn.append(fns[0])\n",
    "    target_fn.append(fns[1])\n",
    "#print 'The first three source filenames are: ', source_fn[0:3]\n",
    "#print 'Their pairs from the list : ', target_fn[:3]\n",
    "\n",
    "# remove whole tus if the filename in tuv with Source attribute is not on the list of allowed sources\n",
    "non_list = 0\n",
    "empty = 0\n",
    "tus = body.getElementsByTagName(\"tu\")\n",
    "print len(tus)\n",
    "for tu in tus:\n",
    "    #print type(tu.parentNode)\n",
    "    tuvs = tu.getElementsByTagName(\"tuv\")\n",
    "    for tuv in tuvs:\n",
    "        \n",
    "        tuv_type = tuv.getAttribute('type') # this works around empty attuibutes (type=\"\")\n",
    "        if tuv_type == 'Source':\n",
    "            fls = tuv.getAttribute('filesource')\n",
    "        # this does the matching with the lists and prints only one translation for sources on the list\n",
    "            if fls.strip() in source_fn: # occasionally says NameError: name 'fls' is not defined\n",
    "                continue\n",
    "            else:\n",
    "                #print 'Non-list items:', fls\n",
    "                non_list +=1\n",
    "                tu.parentNode.removeChild(tu)\n",
    "        break"
   ]
  },
  {
   "cell_type": "code",
   "execution_count": null,
   "metadata": {
    "collapsed": true
   },
   "outputs": [],
   "source": []
  },
  {
   "cell_type": "code",
   "execution_count": null,
   "metadata": {
    "collapsed": true
   },
   "outputs": [],
   "source": [
    "# print the resulting body to a new file\n",
    "ofile = codecs.open('/home/masha/birmingham/data/my_uniq200.tmx','wb','utf8')#the resulting cleaned (customized) tmx is in the argv folder\n",
    "ofile.write(doc.toxml())\n",
    "ofile.close()"
   ]
  }
 ],
 "metadata": {
  "kernelspec": {
   "display_name": "Python 2",
   "language": "python",
   "name": "python2"
  },
  "language_info": {
   "codemirror_mode": {
    "name": "ipython",
    "version": 2
   },
   "file_extension": ".py",
   "mimetype": "text/x-python",
   "name": "python",
   "nbconvert_exporter": "python",
   "pygments_lexer": "ipython2",
   "version": "2.7.13"
  }
 },
 "nbformat": 4,
 "nbformat_minor": 2
}
