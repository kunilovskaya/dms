{
 "cells": [
  {
   "cell_type": "markdown",
   "metadata": {},
   "source": [
    "calculate translationally distict items from scv: item, av_nfreq (test corpus), av_nfreq (reference corpus)\n",
    "\n",
    "based on wilkoxon ranksum test"
   ]
  },
  {
   "cell_type": "code",
   "execution_count": null,
   "metadata": {
    "collapsed": true
   },
   "outputs": [],
   "source": [
    "import sys,codecs,os\n",
    "import pandas as pd\n",
    "import csv"
   ]
  },
  {
   "cell_type": "code",
   "execution_count": null,
   "metadata": {
    "collapsed": true
   },
   "outputs": [],
   "source": [
    "df = pd.read_csv(\"/home/masha/birmingham/stats/EM_learner_distinctive.csv\")"
   ]
  },
  {
   "cell_type": "code",
   "execution_count": null,
   "metadata": {
    "collapsed": true
   },
   "outputs": [],
   "source": [
    "for word in CONN:\n",
    "    res = None\n",
    "    average1 = np.mean(nfreq_dict1[word])\n",
    "    average2 = np.mean(nfreq_dict2[word])    \n",
    "    p = stats.ranksums(nfreq_dict1[word], nfreq_dict2[word])[1] \n",
    "    if average1 > average2:\n",
    "        res = '+'\n",
    "        print word.encode('utf-8')+'\\t',average1,'\\t',average2,'\\t',p,'\\t',res\n",
    "    else:\n",
    "        res = '-'    \n",
    "        print word.encode('utf-8')+'\\t',average1,'\\t',average2,'\\t',p,'\\t',res"
   ]
  }
 ],
 "metadata": {
  "kernelspec": {
   "display_name": "Python 2",
   "language": "python",
   "name": "python2"
  },
  "language_info": {
   "codemirror_mode": {
    "name": "ipython",
    "version": 2
   },
   "file_extension": ".py",
   "mimetype": "text/x-python",
   "name": "python",
   "nbconvert_exporter": "python",
   "pygments_lexer": "ipython2",
   "version": "2.7.13"
  }
 },
 "nbformat": 4,
 "nbformat_minor": 2
}
