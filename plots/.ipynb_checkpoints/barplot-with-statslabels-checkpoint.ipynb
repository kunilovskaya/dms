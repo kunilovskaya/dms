{
 "cells": [
  {
   "cell_type": "code",
   "execution_count": 3,
   "metadata": {
    "collapsed": true
   },
   "outputs": [],
   "source": [
    "'''\n",
    "barplot a 'long table'-style data frame with col names: \n",
    "frequency, competence (learner, prof, reference), language (RU, EN)\n",
    "rows represents each and every text of 5 corpora in the experiment on learner-prof usage of DMs\n",
    "'''\n",
    "import sys,codecs,os\n",
    "import pandas as pd\n",
    "import numpy as np\n",
    "from numpy import median\n",
    "import matplotlib.pyplot as plt\n",
    "import seaborn as sns"
   ]
  },
  {
   "cell_type": "code",
   "execution_count": 6,
   "metadata": {},
   "outputs": [
    {
     "data": {
      "text/plain": [
       "<matplotlib.text.Annotation at 0x7f28e86ac450>"
      ]
     },
     "execution_count": 6,
     "metadata": {},
     "output_type": "execute_result"
    }
   ],
   "source": [
    "#arrows require adjustment for each corpus\n",
    "\n",
    "longt=pd.read_csv('/home/masha/birmingham/2plot/tmx2boxplot_em_long_learner-prof-ref.csv')\n",
    "#colors = dict(en=\"lightgray\", ru=\"darkgray\")\n",
    "sns.factorplot(x=\"competence\", y=\"frequency\", hue=\"language\", data=longt, kind=\"bar\", palette=\"PRGn\", legend=False, estimator=median);\n",
    "plt.ylabel('median (frequency of epistemic markers)')\n",
    "plt.xlabel(\"*Cohen's d at p<0.01, at p<0.05\")\n",
    "sns.despine(right=True)\n",
    "plt.legend(loc='upper right')\n",
    "plt.annotate('d=0.61*', xy=(0.55, 0.75), xycoords = 'data',xytext=(0.15,0.2), ha='center', textcoords='axes fraction',bbox=dict(boxstyle='round,pad=0.3', fc='white', alpha=0.3))\n",
    "plt.annotate('d=0.69*', xy=(0.55, 0.75), xycoords = 'data',xytext=(0.5,0.2), ha='center', textcoords='axes fraction',bbox=dict(boxstyle='round,pad=0.3', fc='white', alpha=0.3))\n",
    "plt.annotate('d=0.95*', xy=(0.55, 0.75), xycoords = 'data',xytext=(0.85,0.2), ha='center', textcoords='axes fraction',bbox=dict(boxstyle='round,pad=0.3', fc='white', alpha=0.3))\n",
    "#xy = arrow head в координатах 'data'=use the axes data coordinate system; xytext = textbox в координатах 'axes fraction' = 0,0 is lower left of axes and 1,1 is upper right\n",
    "plt.annotate('d=0.24**', xy=(2.2,6), xycoords = 'data',xytext=(0.35, 0.4), ha='center', textcoords='axes fraction',bbox=dict(boxstyle='round,pad=0.3', fc='white', alpha=0.3),arrowprops=dict(arrowstyle=\"-\",\n",
    "                            connectionstyle=\"arc3,rad=0\")\n",
    "            )\n",
    "plt.annotate('d=0.29**', xy=(0.2,6), xycoords = 'data',xytext=(0.35, 0.4), ha='center', textcoords='axes fraction',bbox=dict(boxstyle='round,pad=0.3', fc='white', alpha=0.3),arrowprops=dict(arrowstyle=\"-\",\n",
    "                            connectionstyle=\"arc3,rad=0\")\n",
    "            )\n",
    "plt.annotate('!!p=0.34', xy=(2.2,11), xycoords = 'data',xytext=(0.7, 0.7), ha='center', textcoords='axes fraction',bbox=dict(boxstyle='round,pad=0.3', fc='white', alpha=0.3),arrowprops=dict(arrowstyle=\"-\",    \n",
    "                            connectionstyle=\"arc3,rad=0\")\n",
    "            )\n",
    "plt.annotate('!!p=0.46', xy=(1.2,11), xycoords = 'data',xytext=(0.7, 0.7), ha='center', textcoords='axes fraction',bbox=dict(boxstyle='round,pad=0.3', fc='white', alpha=0.3),arrowprops=dict(arrowstyle=\"-\",\n",
    "                            connectionstyle=\"arc3,rad=0\")\n",
    "            )"
   ]
  },
  {
   "cell_type": "code",
   "execution_count": 7,
   "metadata": {},
   "outputs": [
    {
     "data": {
      "image/png": "[encoded data removed]",
      "text/plain": [
       "<matplotlib.figure.Figure at 0x7f28ebb81c10>"
      ]
     },
     "metadata": {},
     "output_type": "display_data"
    }
   ],
   "source": [
    "plt.savefig('/home/masha/emBAR_learner-prof.eps', format='eps')\n",
    "\n",
    "plt.show()\n"
   ]
  },
  {
   "cell_type": "code",
   "execution_count": null,
   "metadata": {
    "collapsed": true
   },
   "outputs": [],
   "source": []
  }
 ],
 "metadata": {
  "kernelspec": {
   "display_name": "Python 2",
   "language": "python",
   "name": "python2"
  },
  "language_info": {
   "codemirror_mode": {
    "name": "ipython",
    "version": 2
   },
   "file_extension": ".py",
   "mimetype": "text/x-python",
   "name": "python",
   "nbconvert_exporter": "python",
   "pygments_lexer": "ipython2",
   "version": "2.7.13"
  }
 },
 "nbformat": 4,
 "nbformat_minor": 2
}
